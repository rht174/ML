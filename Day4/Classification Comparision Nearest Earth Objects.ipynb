{
 "cells": [
  {
   "cell_type": "markdown",
   "id": "10e757f5",
   "metadata": {},
   "source": [
    "# Importing the libraries"
   ]
  },
  {
   "cell_type": "code",
   "execution_count": 1,
   "id": "5b0f0414",
   "metadata": {},
   "outputs": [],
   "source": [
    "import numpy as np\n",
    "import pandas as pd\n",
    "import matplotlib.pyplot as plt"
   ]
  },
  {
   "cell_type": "markdown",
   "id": "682dbada",
   "metadata": {},
   "source": [
    "# Importing the dataset"
   ]
  },
  {
   "cell_type": "code",
   "execution_count": 2,
   "id": "ae07f866",
   "metadata": {},
   "outputs": [
    {
     "name": "stderr",
     "output_type": "stream",
     "text": [
      "C:\\Users\\rohit\\AppData\\Local\\Temp\\ipykernel_8056\\173524421.py:3: FutureWarning: In a future version of pandas all arguments of DataFrame.drop except for the argument 'labels' will be keyword-only.\n",
      "  df = df.drop(['orbiting_body', 'id', 'name', 'sentry_object'], 1)\n"
     ]
    },
    {
     "data": {
      "text/html": [
       "<div>\n",
       "<style scoped>\n",
       "    .dataframe tbody tr th:only-of-type {\n",
       "        vertical-align: middle;\n",
       "    }\n",
       "\n",
       "    .dataframe tbody tr th {\n",
       "        vertical-align: top;\n",
       "    }\n",
       "\n",
       "    .dataframe thead th {\n",
       "        text-align: right;\n",
       "    }\n",
       "</style>\n",
       "<table border=\"1\" class=\"dataframe\">\n",
       "  <thead>\n",
       "    <tr style=\"text-align: right;\">\n",
       "      <th></th>\n",
       "      <th>est_diameter_min</th>\n",
       "      <th>est_diameter_max</th>\n",
       "      <th>relative_velocity</th>\n",
       "      <th>miss_distance</th>\n",
       "      <th>absolute_magnitude</th>\n",
       "      <th>hazardous</th>\n",
       "    </tr>\n",
       "  </thead>\n",
       "  <tbody>\n",
       "    <tr>\n",
       "      <th>0</th>\n",
       "      <td>1.198271</td>\n",
       "      <td>2.679415</td>\n",
       "      <td>13569.249224</td>\n",
       "      <td>5.483974e+07</td>\n",
       "      <td>16.73</td>\n",
       "      <td>0</td>\n",
       "    </tr>\n",
       "    <tr>\n",
       "      <th>1</th>\n",
       "      <td>0.265800</td>\n",
       "      <td>0.594347</td>\n",
       "      <td>73588.726663</td>\n",
       "      <td>6.143813e+07</td>\n",
       "      <td>20.00</td>\n",
       "      <td>1</td>\n",
       "    </tr>\n",
       "    <tr>\n",
       "      <th>2</th>\n",
       "      <td>0.722030</td>\n",
       "      <td>1.614507</td>\n",
       "      <td>114258.692129</td>\n",
       "      <td>4.979872e+07</td>\n",
       "      <td>17.83</td>\n",
       "      <td>0</td>\n",
       "    </tr>\n",
       "    <tr>\n",
       "      <th>3</th>\n",
       "      <td>0.096506</td>\n",
       "      <td>0.215794</td>\n",
       "      <td>24764.303138</td>\n",
       "      <td>2.543497e+07</td>\n",
       "      <td>22.20</td>\n",
       "      <td>0</td>\n",
       "    </tr>\n",
       "    <tr>\n",
       "      <th>4</th>\n",
       "      <td>0.255009</td>\n",
       "      <td>0.570217</td>\n",
       "      <td>42737.733765</td>\n",
       "      <td>4.627557e+07</td>\n",
       "      <td>20.09</td>\n",
       "      <td>1</td>\n",
       "    </tr>\n",
       "  </tbody>\n",
       "</table>\n",
       "</div>"
      ],
      "text/plain": [
       "   est_diameter_min  est_diameter_max  relative_velocity  miss_distance  \\\n",
       "0          1.198271          2.679415       13569.249224   5.483974e+07   \n",
       "1          0.265800          0.594347       73588.726663   6.143813e+07   \n",
       "2          0.722030          1.614507      114258.692129   4.979872e+07   \n",
       "3          0.096506          0.215794       24764.303138   2.543497e+07   \n",
       "4          0.255009          0.570217       42737.733765   4.627557e+07   \n",
       "\n",
       "   absolute_magnitude  hazardous  \n",
       "0               16.73          0  \n",
       "1               20.00          1  \n",
       "2               17.83          0  \n",
       "3               22.20          0  \n",
       "4               20.09          1  "
      ]
     },
     "execution_count": 2,
     "metadata": {},
     "output_type": "execute_result"
    }
   ],
   "source": [
    "from sklearn.preprocessing import LabelEncoder\n",
    "df = pd.read_csv('neo.csv')\n",
    "df = df.drop(['orbiting_body', 'id', 'name', 'sentry_object'], 1)\n",
    "le = LabelEncoder()\n",
    "# df['sentry_object'] = le.fit_transform(df['sentry_object'])\n",
    "df['hazardous'] = le.fit_transform(df['hazardous'])\n",
    "# X = df.iloc[:,]\n",
    "df.head()\n"
   ]
  },
  {
   "cell_type": "markdown",
   "id": "4dd0c911",
   "metadata": {},
   "source": [
    "## Prep the data"
   ]
  },
  {
   "cell_type": "code",
   "execution_count": 3,
   "id": "8227d649",
   "metadata": {},
   "outputs": [
    {
     "name": "stdout",
     "output_type": "stream",
     "text": [
      "       est_diameter_min  est_diameter_max  relative_velocity  miss_distance  \\\n",
      "0              1.198271          2.679415       13569.249224   5.483974e+07   \n",
      "1              0.265800          0.594347       73588.726663   6.143813e+07   \n",
      "2              0.722030          1.614507      114258.692129   4.979872e+07   \n",
      "3              0.096506          0.215794       24764.303138   2.543497e+07   \n",
      "4              0.255009          0.570217       42737.733765   4.627557e+07   \n",
      "...                 ...               ...                ...            ...   \n",
      "90831          0.026580          0.059435       52078.886692   1.230039e+07   \n",
      "90832          0.016771          0.037501       46114.605073   5.432121e+07   \n",
      "90833          0.031956          0.071456        7566.807732   2.840077e+07   \n",
      "90834          0.007321          0.016370       69199.154484   6.869206e+07   \n",
      "90835          0.039862          0.089133       27024.455553   5.977213e+07   \n",
      "\n",
      "       absolute_magnitude  \n",
      "0                   16.73  \n",
      "1                   20.00  \n",
      "2                   17.83  \n",
      "3                   22.20  \n",
      "4                   20.09  \n",
      "...                   ...  \n",
      "90831               25.00  \n",
      "90832               26.00  \n",
      "90833               24.60  \n",
      "90834               27.80  \n",
      "90835               24.12  \n",
      "\n",
      "[90836 rows x 5 columns]\n"
     ]
    }
   ],
   "source": [
    "X = df.iloc[:,:-1]\n",
    "print(X)"
   ]
  },
  {
   "cell_type": "code",
   "execution_count": 4,
   "id": "f4e27408",
   "metadata": {},
   "outputs": [
    {
     "name": "stdout",
     "output_type": "stream",
     "text": [
      "0        0\n",
      "1        1\n",
      "2        0\n",
      "3        0\n",
      "4        1\n",
      "        ..\n",
      "90831    0\n",
      "90832    0\n",
      "90833    0\n",
      "90834    0\n",
      "90835    0\n",
      "Name: hazardous, Length: 90836, dtype: int64\n"
     ]
    }
   ],
   "source": [
    "y = df.iloc[:,-1]\n",
    "print(y)"
   ]
  },
  {
   "cell_type": "code",
   "execution_count": 5,
   "id": "810b7c1a",
   "metadata": {},
   "outputs": [],
   "source": [
    "from sklearn.model_selection import train_test_split\n",
    "X_train, X_test, y_train, y_test = train_test_split(X, y, test_size = 0.25, random_state = 12)"
   ]
  },
  {
   "cell_type": "code",
   "execution_count": 6,
   "id": "ac82ed2a",
   "metadata": {},
   "outputs": [
    {
     "name": "stdout",
     "output_type": "stream",
     "text": [
      "       est_diameter_min  est_diameter_max  relative_velocity  miss_distance  \\\n",
      "83320          0.018991          0.042466       36395.094301   2.039977e+06   \n",
      "59777          0.019256          0.043057       50307.702919   5.327216e+07   \n",
      "27760          0.012149          0.027167       23145.966487   1.546155e+07   \n",
      "70224          0.004252          0.009507       19910.335193   3.209515e+07   \n",
      "74057          0.020163          0.045086       29312.058841   6.009054e+06   \n",
      "44253          0.005815          0.013003       37183.729595   3.856950e+05   \n",
      "75450          0.366906          0.820427       71415.744674   4.095619e+07   \n",
      "10137          0.016016          0.035813       66922.826527   6.684031e+07   \n",
      "42170          0.015295          0.034201       47771.244079   3.956645e+07   \n",
      "15829          0.022108          0.049436       47652.737645   7.483872e+06   \n",
      "29507          0.105817          0.236614       69610.754479   5.717618e+07   \n",
      "83165          0.231502          0.517654       90046.236094   6.672719e+07   \n",
      "55332          0.110804          0.247765       39743.195690   3.638576e+07   \n",
      "53010          0.031956          0.071456        7445.618514   3.594127e+07   \n",
      "64033          0.084053          0.187949       27156.842069   3.455827e+07   \n",
      "\n",
      "       absolute_magnitude  \n",
      "83320               25.73  \n",
      "59777               25.70  \n",
      "27760               26.70  \n",
      "70224               28.98  \n",
      "74057               25.60  \n",
      "44253               28.30  \n",
      "75450               19.30  \n",
      "10137               26.10  \n",
      "42170               26.20  \n",
      "15829               25.40  \n",
      "29507               22.00  \n",
      "83165               20.30  \n",
      "55332               21.90  \n",
      "53010               24.60  \n",
      "64033               22.50  \n",
      "       est_diameter_min  est_diameter_max  relative_velocity  miss_distance  \\\n",
      "37613          0.146068          0.326618       76812.309443   2.216424e+07   \n",
      "29778          0.060891          0.136157       51142.871960   4.978772e+07   \n",
      "16971          0.127220          0.284472       19326.361207   5.583515e+07   \n",
      "4899           0.133216          0.297879       38694.031531   3.901196e+07   \n",
      "7511           0.109788          0.245493       20586.151984   5.516479e+07   \n",
      "5127           0.018817          0.042077       50957.935163   4.113865e+07   \n",
      "12839          0.019256          0.043057       42154.693837   6.117754e+07   \n",
      "15484          0.009651          0.021579       53122.699087   1.885626e+07   \n",
      "18638          0.060891          0.136157       41874.918749   5.697307e+06   \n",
      "50450          0.084053          0.187949       24993.228961   7.105054e+07   \n",
      "7905           0.008801          0.019681       36123.602415   4.265023e+07   \n",
      "9207           0.139494          0.311918       49615.459904   6.086113e+07   \n",
      "44976          0.211132          0.472106       41968.542141   1.318899e+07   \n",
      "20774          0.060891          0.136157       63319.577336   6.070222e+07   \n",
      "14758          0.041149          0.092011       39155.799166   2.413742e+06   \n",
      "\n",
      "       absolute_magnitude  \n",
      "37613              21.300  \n",
      "29778              23.200  \n",
      "16971              21.600  \n",
      "4899               21.500  \n",
      "7511               21.920  \n",
      "5127               25.750  \n",
      "12839              25.700  \n",
      "15484              27.200  \n",
      "18638              23.200  \n",
      "50450              22.500  \n",
      "7905               27.400  \n",
      "9207               21.400  \n",
      "44976              20.500  \n",
      "20774              23.200  \n",
      "14758              24.051  \n",
      "83320    0\n",
      "59777    0\n",
      "27760    0\n",
      "70224    0\n",
      "74057    0\n",
      "44253    0\n",
      "75450    0\n",
      "10137    0\n",
      "42170    0\n",
      "15829    0\n",
      "29507    0\n",
      "83165    0\n",
      "55332    0\n",
      "53010    0\n",
      "64033    0\n",
      "Name: hazardous, dtype: int64\n",
      "37613    1\n",
      "29778    0\n",
      "16971    0\n",
      "4899     0\n",
      "7511     0\n",
      "5127     0\n",
      "12839    0\n",
      "15484    0\n",
      "18638    0\n",
      "50450    0\n",
      "7905     0\n",
      "9207     0\n",
      "44976    0\n",
      "20774    0\n",
      "14758    0\n",
      "Name: hazardous, dtype: int64\n"
     ]
    }
   ],
   "source": [
    "print(X_train[:15])\n",
    "print(X_test[:15])\n",
    "print(y_train[:15])\n",
    "print(y_test[:15])"
   ]
  },
  {
   "cell_type": "markdown",
   "id": "6f65708e",
   "metadata": {},
   "source": [
    "# Feature scaling"
   ]
  },
  {
   "cell_type": "code",
   "execution_count": 7,
   "id": "1f8c6016",
   "metadata": {},
   "outputs": [],
   "source": [
    "from sklearn.preprocessing import StandardScaler\n",
    "sc = StandardScaler()\n",
    "X_train = sc.fit_transform(X_train)\n",
    "X_test = sc.transform(X_test)"
   ]
  },
  {
   "cell_type": "code",
   "execution_count": 8,
   "id": "cf93491f",
   "metadata": {},
   "outputs": [
    {
     "name": "stdout",
     "output_type": "stream",
     "text": [
      "[[-0.34222106 -0.34222106 -0.46142022 -1.56710517  0.75922628]\n",
      " [-0.34138979 -0.34138979  0.08850763  0.72532508  0.74887065]\n",
      " [-0.36374848 -0.36374848 -0.98512248 -0.96654484  1.0940582 ]\n",
      " [-0.38859811 -0.38859811 -1.11301825 -0.22225938  1.88108582]\n",
      " [-0.33853448 -0.33853448 -0.74139349 -1.38950524  0.71435189]\n",
      " [-0.38367888 -0.38367888 -0.4302476  -1.64112751  1.64635828]\n",
      " [ 0.75246062  0.75246062  0.92285154  0.17423576 -1.46032968]\n",
      " [-0.35158249 -0.35158249  0.74525861  1.33244437  0.88694567]\n",
      " [-0.35385055 -0.35385055 -0.01175174  0.11205101  0.92146443]\n",
      " [-0.3324138  -0.3324138  -0.01643598 -1.32351318  0.64531438]]\n",
      "[[ 0.05761382  0.05761382  1.13616317 -0.66662661 -0.76995458]\n",
      " [-0.21038676 -0.21038676  0.12151961  0.56941061 -0.11409823]\n",
      " [-0.00168993 -0.00168993 -1.13610116  0.84000833 -0.66639831]\n",
      " [ 0.01717495  0.01717495 -0.37054944  0.08723965 -0.70091707]\n",
      " [-0.05653763 -0.05653763 -1.08630503  0.81001252 -0.5559383 ]\n",
      " [-0.34276889 -0.34276889  0.11420956  0.18240009  0.76613003]\n",
      " [-0.34138979 -0.34138979 -0.2337588   1.07905852  0.74887065]\n",
      " [-0.37161069 -0.37161069  0.19977683 -0.81464533  1.26665198]\n",
      " [-0.21038676 -0.21038676 -0.24481756 -1.40345461 -0.11409823]\n",
      " [-0.13750943 -0.13750943 -0.91210518  1.52083498 -0.35572952]]\n"
     ]
    }
   ],
   "source": [
    "print(X_train[:10])\n",
    "print(X_test[:10])"
   ]
  },
  {
   "cell_type": "markdown",
   "id": "c6933cdc",
   "metadata": {},
   "source": [
    "# Training the Logistic Regression model"
   ]
  },
  {
   "cell_type": "code",
   "execution_count": 9,
   "id": "977200d4",
   "metadata": {},
   "outputs": [
    {
     "data": {
      "text/html": [
       "<style>#sk-container-id-1 {color: black;background-color: white;}#sk-container-id-1 pre{padding: 0;}#sk-container-id-1 div.sk-toggleable {background-color: white;}#sk-container-id-1 label.sk-toggleable__label {cursor: pointer;display: block;width: 100%;margin-bottom: 0;padding: 0.3em;box-sizing: border-box;text-align: center;}#sk-container-id-1 label.sk-toggleable__label-arrow:before {content: \"▸\";float: left;margin-right: 0.25em;color: #696969;}#sk-container-id-1 label.sk-toggleable__label-arrow:hover:before {color: black;}#sk-container-id-1 div.sk-estimator:hover label.sk-toggleable__label-arrow:before {color: black;}#sk-container-id-1 div.sk-toggleable__content {max-height: 0;max-width: 0;overflow: hidden;text-align: left;background-color: #f0f8ff;}#sk-container-id-1 div.sk-toggleable__content pre {margin: 0.2em;color: black;border-radius: 0.25em;background-color: #f0f8ff;}#sk-container-id-1 input.sk-toggleable__control:checked~div.sk-toggleable__content {max-height: 200px;max-width: 100%;overflow: auto;}#sk-container-id-1 input.sk-toggleable__control:checked~label.sk-toggleable__label-arrow:before {content: \"▾\";}#sk-container-id-1 div.sk-estimator input.sk-toggleable__control:checked~label.sk-toggleable__label {background-color: #d4ebff;}#sk-container-id-1 div.sk-label input.sk-toggleable__control:checked~label.sk-toggleable__label {background-color: #d4ebff;}#sk-container-id-1 input.sk-hidden--visually {border: 0;clip: rect(1px 1px 1px 1px);clip: rect(1px, 1px, 1px, 1px);height: 1px;margin: -1px;overflow: hidden;padding: 0;position: absolute;width: 1px;}#sk-container-id-1 div.sk-estimator {font-family: monospace;background-color: #f0f8ff;border: 1px dotted black;border-radius: 0.25em;box-sizing: border-box;margin-bottom: 0.5em;}#sk-container-id-1 div.sk-estimator:hover {background-color: #d4ebff;}#sk-container-id-1 div.sk-parallel-item::after {content: \"\";width: 100%;border-bottom: 1px solid gray;flex-grow: 1;}#sk-container-id-1 div.sk-label:hover label.sk-toggleable__label {background-color: #d4ebff;}#sk-container-id-1 div.sk-serial::before {content: \"\";position: absolute;border-left: 1px solid gray;box-sizing: border-box;top: 0;bottom: 0;left: 50%;z-index: 0;}#sk-container-id-1 div.sk-serial {display: flex;flex-direction: column;align-items: center;background-color: white;padding-right: 0.2em;padding-left: 0.2em;position: relative;}#sk-container-id-1 div.sk-item {position: relative;z-index: 1;}#sk-container-id-1 div.sk-parallel {display: flex;align-items: stretch;justify-content: center;background-color: white;position: relative;}#sk-container-id-1 div.sk-item::before, #sk-container-id-1 div.sk-parallel-item::before {content: \"\";position: absolute;border-left: 1px solid gray;box-sizing: border-box;top: 0;bottom: 0;left: 50%;z-index: -1;}#sk-container-id-1 div.sk-parallel-item {display: flex;flex-direction: column;z-index: 1;position: relative;background-color: white;}#sk-container-id-1 div.sk-parallel-item:first-child::after {align-self: flex-end;width: 50%;}#sk-container-id-1 div.sk-parallel-item:last-child::after {align-self: flex-start;width: 50%;}#sk-container-id-1 div.sk-parallel-item:only-child::after {width: 0;}#sk-container-id-1 div.sk-dashed-wrapped {border: 1px dashed gray;margin: 0 0.4em 0.5em 0.4em;box-sizing: border-box;padding-bottom: 0.4em;background-color: white;}#sk-container-id-1 div.sk-label label {font-family: monospace;font-weight: bold;display: inline-block;line-height: 1.2em;}#sk-container-id-1 div.sk-label-container {text-align: center;}#sk-container-id-1 div.sk-container {/* jupyter's `normalize.less` sets `[hidden] { display: none; }` but bootstrap.min.css set `[hidden] { display: none !important; }` so we also need the `!important` here to be able to override the default hidden behavior on the sphinx rendered scikit-learn.org. See: https://github.com/scikit-learn/scikit-learn/issues/21755 */display: inline-block !important;position: relative;}#sk-container-id-1 div.sk-text-repr-fallback {display: none;}</style><div id=\"sk-container-id-1\" class=\"sk-top-container\"><div class=\"sk-text-repr-fallback\"><pre>LogisticRegression(random_state=10)</pre><b>In a Jupyter environment, please rerun this cell to show the HTML representation or trust the notebook. <br />On GitHub, the HTML representation is unable to render, please try loading this page with nbviewer.org.</b></div><div class=\"sk-container\" hidden><div class=\"sk-item\"><div class=\"sk-estimator sk-toggleable\"><input class=\"sk-toggleable__control sk-hidden--visually\" id=\"sk-estimator-id-1\" type=\"checkbox\" checked><label for=\"sk-estimator-id-1\" class=\"sk-toggleable__label sk-toggleable__label-arrow\">LogisticRegression</label><div class=\"sk-toggleable__content\"><pre>LogisticRegression(random_state=10)</pre></div></div></div></div></div>"
      ],
      "text/plain": [
       "LogisticRegression(random_state=10)"
      ]
     },
     "execution_count": 9,
     "metadata": {},
     "output_type": "execute_result"
    }
   ],
   "source": [
    "from sklearn.linear_model import LogisticRegression\n",
    "classifier = LogisticRegression(random_state = 10)\n",
    "classifier.fit(X_train, y_train)"
   ]
  },
  {
   "cell_type": "markdown",
   "id": "653fe9a2",
   "metadata": {},
   "source": [
    "# Predicting the test set result"
   ]
  },
  {
   "cell_type": "code",
   "execution_count": 10,
   "id": "559b01cf",
   "metadata": {},
   "outputs": [
    {
     "name": "stdout",
     "output_type": "stream",
     "text": [
      "[[0 1]\n",
      " [0 0]\n",
      " [0 0]\n",
      " ...\n",
      " [0 0]\n",
      " [1 0]\n",
      " [0 0]]\n"
     ]
    }
   ],
   "source": [
    "y_pred = classifier.predict(X_test)\n",
    "print(np.concatenate((y_pred.reshape(len(y_pred),1), y_test.values.reshape(len(y_test),1)),1))\n",
    "# y_pred.reshape(len(y_pred),1)\n",
    "# y_test.values.reshape(len(y_test),1)"
   ]
  },
  {
   "cell_type": "markdown",
   "id": "51418170",
   "metadata": {},
   "source": [
    "# Making the Confusion Matrix"
   ]
  },
  {
   "cell_type": "code",
   "execution_count": 11,
   "id": "3ffbb7ba",
   "metadata": {},
   "outputs": [
    {
     "name": "stdout",
     "output_type": "stream",
     "text": [
      "[[20333   180]\n",
      " [ 2021   175]]\n"
     ]
    },
    {
     "data": {
      "text/plain": [
       "0.9030780747721168"
      ]
     },
     "execution_count": 11,
     "metadata": {},
     "output_type": "execute_result"
    }
   ],
   "source": [
    "from sklearn.metrics import confusion_matrix, accuracy_score\n",
    "cm = confusion_matrix(y_test, y_pred)\n",
    "print(cm)\n",
    "accuracy_score(y_test, y_pred)"
   ]
  },
  {
   "cell_type": "markdown",
   "id": "2a816e04",
   "metadata": {},
   "source": [
    "# Training the SVM model using rbf kernel"
   ]
  },
  {
   "cell_type": "code",
   "execution_count": 12,
   "id": "557ef0e2",
   "metadata": {},
   "outputs": [
    {
     "data": {
      "text/html": [
       "<style>#sk-container-id-2 {color: black;background-color: white;}#sk-container-id-2 pre{padding: 0;}#sk-container-id-2 div.sk-toggleable {background-color: white;}#sk-container-id-2 label.sk-toggleable__label {cursor: pointer;display: block;width: 100%;margin-bottom: 0;padding: 0.3em;box-sizing: border-box;text-align: center;}#sk-container-id-2 label.sk-toggleable__label-arrow:before {content: \"▸\";float: left;margin-right: 0.25em;color: #696969;}#sk-container-id-2 label.sk-toggleable__label-arrow:hover:before {color: black;}#sk-container-id-2 div.sk-estimator:hover label.sk-toggleable__label-arrow:before {color: black;}#sk-container-id-2 div.sk-toggleable__content {max-height: 0;max-width: 0;overflow: hidden;text-align: left;background-color: #f0f8ff;}#sk-container-id-2 div.sk-toggleable__content pre {margin: 0.2em;color: black;border-radius: 0.25em;background-color: #f0f8ff;}#sk-container-id-2 input.sk-toggleable__control:checked~div.sk-toggleable__content {max-height: 200px;max-width: 100%;overflow: auto;}#sk-container-id-2 input.sk-toggleable__control:checked~label.sk-toggleable__label-arrow:before {content: \"▾\";}#sk-container-id-2 div.sk-estimator input.sk-toggleable__control:checked~label.sk-toggleable__label {background-color: #d4ebff;}#sk-container-id-2 div.sk-label input.sk-toggleable__control:checked~label.sk-toggleable__label {background-color: #d4ebff;}#sk-container-id-2 input.sk-hidden--visually {border: 0;clip: rect(1px 1px 1px 1px);clip: rect(1px, 1px, 1px, 1px);height: 1px;margin: -1px;overflow: hidden;padding: 0;position: absolute;width: 1px;}#sk-container-id-2 div.sk-estimator {font-family: monospace;background-color: #f0f8ff;border: 1px dotted black;border-radius: 0.25em;box-sizing: border-box;margin-bottom: 0.5em;}#sk-container-id-2 div.sk-estimator:hover {background-color: #d4ebff;}#sk-container-id-2 div.sk-parallel-item::after {content: \"\";width: 100%;border-bottom: 1px solid gray;flex-grow: 1;}#sk-container-id-2 div.sk-label:hover label.sk-toggleable__label {background-color: #d4ebff;}#sk-container-id-2 div.sk-serial::before {content: \"\";position: absolute;border-left: 1px solid gray;box-sizing: border-box;top: 0;bottom: 0;left: 50%;z-index: 0;}#sk-container-id-2 div.sk-serial {display: flex;flex-direction: column;align-items: center;background-color: white;padding-right: 0.2em;padding-left: 0.2em;position: relative;}#sk-container-id-2 div.sk-item {position: relative;z-index: 1;}#sk-container-id-2 div.sk-parallel {display: flex;align-items: stretch;justify-content: center;background-color: white;position: relative;}#sk-container-id-2 div.sk-item::before, #sk-container-id-2 div.sk-parallel-item::before {content: \"\";position: absolute;border-left: 1px solid gray;box-sizing: border-box;top: 0;bottom: 0;left: 50%;z-index: -1;}#sk-container-id-2 div.sk-parallel-item {display: flex;flex-direction: column;z-index: 1;position: relative;background-color: white;}#sk-container-id-2 div.sk-parallel-item:first-child::after {align-self: flex-end;width: 50%;}#sk-container-id-2 div.sk-parallel-item:last-child::after {align-self: flex-start;width: 50%;}#sk-container-id-2 div.sk-parallel-item:only-child::after {width: 0;}#sk-container-id-2 div.sk-dashed-wrapped {border: 1px dashed gray;margin: 0 0.4em 0.5em 0.4em;box-sizing: border-box;padding-bottom: 0.4em;background-color: white;}#sk-container-id-2 div.sk-label label {font-family: monospace;font-weight: bold;display: inline-block;line-height: 1.2em;}#sk-container-id-2 div.sk-label-container {text-align: center;}#sk-container-id-2 div.sk-container {/* jupyter's `normalize.less` sets `[hidden] { display: none; }` but bootstrap.min.css set `[hidden] { display: none !important; }` so we also need the `!important` here to be able to override the default hidden behavior on the sphinx rendered scikit-learn.org. See: https://github.com/scikit-learn/scikit-learn/issues/21755 */display: inline-block !important;position: relative;}#sk-container-id-2 div.sk-text-repr-fallback {display: none;}</style><div id=\"sk-container-id-2\" class=\"sk-top-container\"><div class=\"sk-text-repr-fallback\"><pre>SVC(random_state=0)</pre><b>In a Jupyter environment, please rerun this cell to show the HTML representation or trust the notebook. <br />On GitHub, the HTML representation is unable to render, please try loading this page with nbviewer.org.</b></div><div class=\"sk-container\" hidden><div class=\"sk-item\"><div class=\"sk-estimator sk-toggleable\"><input class=\"sk-toggleable__control sk-hidden--visually\" id=\"sk-estimator-id-2\" type=\"checkbox\" checked><label for=\"sk-estimator-id-2\" class=\"sk-toggleable__label sk-toggleable__label-arrow\">SVC</label><div class=\"sk-toggleable__content\"><pre>SVC(random_state=0)</pre></div></div></div></div></div>"
      ],
      "text/plain": [
       "SVC(random_state=0)"
      ]
     },
     "execution_count": 12,
     "metadata": {},
     "output_type": "execute_result"
    }
   ],
   "source": [
    "from sklearn.svm import SVC\n",
    "classifier_svm = SVC(kernel = 'rbf', random_state = 0)\n",
    "classifier_svm.fit(X_train, y_train)"
   ]
  },
  {
   "cell_type": "markdown",
   "id": "170abda3",
   "metadata": {},
   "source": [
    "## Predicting the Test set results"
   ]
  },
  {
   "cell_type": "code",
   "execution_count": 13,
   "id": "467790be",
   "metadata": {},
   "outputs": [
    {
     "name": "stdout",
     "output_type": "stream",
     "text": [
      "[[0 1]\n",
      " [0 0]\n",
      " [0 0]\n",
      " ...\n",
      " [0 0]\n",
      " [0 0]\n",
      " [0 0]]\n"
     ]
    }
   ],
   "source": [
    "y_pred_svm = classifier_svm.predict(X_test)\n",
    "print(np.concatenate((y_pred_svm.reshape(len(y_pred),1), y_test.values.reshape(len(y_test),1)),1))"
   ]
  },
  {
   "cell_type": "markdown",
   "id": "d249e9fc",
   "metadata": {},
   "source": [
    "## Making the Confusion Matrix"
   ]
  },
  {
   "cell_type": "code",
   "execution_count": 14,
   "id": "94ed2a77",
   "metadata": {},
   "outputs": [
    {
     "name": "stdout",
     "output_type": "stream",
     "text": [
      "[[20430    83]\n",
      " [ 1949   247]]\n"
     ]
    },
    {
     "data": {
      "text/plain": [
       "0.9105200581267339"
      ]
     },
     "execution_count": 14,
     "metadata": {},
     "output_type": "execute_result"
    }
   ],
   "source": [
    "from sklearn.metrics import confusion_matrix, accuracy_score\n",
    "cm = confusion_matrix(y_test, y_pred_svm)\n",
    "print(cm)\n",
    "accuracy_score(y_test, y_pred_svm)"
   ]
  },
  {
   "cell_type": "code",
   "execution_count": null,
   "id": "45cef99a",
   "metadata": {},
   "outputs": [],
   "source": []
  }
 ],
 "metadata": {
  "kernelspec": {
   "display_name": "Python 3 (ipykernel)",
   "language": "python",
   "name": "python3"
  },
  "language_info": {
   "codemirror_mode": {
    "name": "ipython",
    "version": 3
   },
   "file_extension": ".py",
   "mimetype": "text/x-python",
   "name": "python",
   "nbconvert_exporter": "python",
   "pygments_lexer": "ipython3",
   "version": "3.10.4"
  }
 },
 "nbformat": 4,
 "nbformat_minor": 5
}
