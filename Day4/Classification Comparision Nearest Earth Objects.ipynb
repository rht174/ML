{
 "cells": [
  {
   "cell_type": "markdown",
   "id": "10e757f5",
   "metadata": {},
   "source": [
    "# Importing the libraries"
   ]
  },
  {
   "cell_type": "code",
   "execution_count": null,
   "id": "5b0f0414",
   "metadata": {},
   "outputs": [],
   "source": [
    "import numpy as np\n",
    "import pandas as pd\n",
    "import matplotlib.pyplot as plt"
   ]
  },
  {
   "cell_type": "markdown",
   "id": "682dbada",
   "metadata": {},
   "source": [
    "# Importing the dataset"
   ]
  },
  {
   "cell_type": "code",
   "execution_count": null,
   "id": "ae07f866",
   "metadata": {},
   "outputs": [],
   "source": [
    "from sklearn.preprocessing import LabelEncoder\n",
    "df = pd.read_csv('neo.csv')\n",
    "df = df.drop(['orbiting_body', 'id', 'name', 'sentry_object'], 1)\n",
    "le = LabelEncoder()\n",
    "# df['sentry_object'] = le.fit_transform(df['sentry_object'])\n",
    "df['hazardous'] = le.fit_transform(df['hazardous'])\n",
    "# X = df.iloc[:,]\n",
    "df.head()\n"
   ]
  },
  {
   "cell_type": "markdown",
   "id": "4dd0c911",
   "metadata": {},
   "source": [
    "## Prep the data"
   ]
  },
  {
   "cell_type": "code",
   "execution_count": null,
   "id": "8227d649",
   "metadata": {},
   "outputs": [],
   "source": [
    "X = df.iloc[:,:-1]\n",
    "print(X)"
   ]
  },
  {
   "cell_type": "code",
   "execution_count": null,
   "id": "f4e27408",
   "metadata": {},
   "outputs": [],
   "source": [
    "y = df.iloc[:,-1]\n",
    "print(y)"
   ]
  },
  {
   "cell_type": "code",
   "execution_count": null,
   "id": "810b7c1a",
   "metadata": {},
   "outputs": [],
   "source": [
    "from sklearn.model_selection import train_test_split\n",
    "X_train, X_test, y_train, y_test = train_test_split(X, y, test_size = 0.25, random_state = 12)"
   ]
  },
  {
   "cell_type": "code",
   "execution_count": null,
   "id": "ac82ed2a",
   "metadata": {},
   "outputs": [],
   "source": [
    "print(X_train[:15])\n",
    "print(X_test[:15])\n",
    "print(y_train[:15])\n",
    "print(y_test[:15])"
   ]
  },
  {
   "cell_type": "markdown",
   "id": "6f65708e",
   "metadata": {},
   "source": [
    "# Feature scaling"
   ]
  },
  {
   "cell_type": "code",
   "execution_count": null,
   "id": "1f8c6016",
   "metadata": {},
   "outputs": [],
   "source": [
    "from sklearn.preprocessing import StandardScaler\n",
    "sc = StandardScaler()\n",
    "X_train = sc.fit_transform(X_train)\n",
    "X_test = sc.transform(X_test)"
   ]
  },
  {
   "cell_type": "code",
   "execution_count": null,
   "id": "cf93491f",
   "metadata": {},
   "outputs": [],
   "source": [
    "print(X_train[:10])\n",
    "print(X_test[:10])"
   ]
  },
  {
   "cell_type": "markdown",
   "id": "c6933cdc",
   "metadata": {},
   "source": [
    "# Training the Logistic Regression model"
   ]
  },
  {
   "cell_type": "code",
   "execution_count": null,
   "id": "977200d4",
   "metadata": {},
   "outputs": [],
   "source": [
    "from sklearn.linear_model import LogisticRegression\n",
    "classifier = LogisticRegression(random_state = 10)\n",
    "classifier.fit(X_train, y_train)"
   ]
  },
  {
   "cell_type": "markdown",
   "id": "653fe9a2",
   "metadata": {},
   "source": [
    "# Predicting the test set result"
   ]
  },
  {
   "cell_type": "code",
   "execution_count": null,
   "id": "559b01cf",
   "metadata": {},
   "outputs": [],
   "source": [
    "y_pred = classifier.predict(X_test)\n",
    "print(np.concatenate((y_pred.reshape(len(y_pred),1), y_test.values.reshape(len(y_test),1)),1))\n",
    "# y_pred.reshape(len(y_pred),1)\n",
    "# y_test.values.reshape(len(y_test),1)"
   ]
  },
  {
   "cell_type": "markdown",
   "id": "51418170",
   "metadata": {},
   "source": [
    "# Making the Confusion Matrix"
   ]
  },
  {
   "cell_type": "code",
   "execution_count": null,
   "id": "3ffbb7ba",
   "metadata": {},
   "outputs": [],
   "source": [
    "from sklearn.metrics import confusion_matrix, accuracy_score\n",
    "cm = confusion_matrix(y_test, y_pred)\n",
    "print(cm)\n",
    "accuracy_score(y_test, y_pred)"
   ]
  },
  {
   "cell_type": "markdown",
   "id": "2a816e04",
   "metadata": {},
   "source": [
    "# Training the SVM model using rbf kernel"
   ]
  },
  {
   "cell_type": "code",
   "execution_count": null,
   "id": "557ef0e2",
   "metadata": {},
   "outputs": [],
   "source": [
    "from sklearn.svm import SVC\n",
    "classifier_svm = SVC(kernel = 'rbf', random_state = 0)\n",
    "classifier_svm.fit(X_train, y_train)"
   ]
  },
  {
   "cell_type": "markdown",
   "id": "170abda3",
   "metadata": {},
   "source": [
    "## Predicting the Test set results"
   ]
  },
  {
   "cell_type": "code",
   "execution_count": null,
   "id": "467790be",
   "metadata": {},
   "outputs": [],
   "source": [
    "y_pred_svm = classifier_svm.predict(X_test)\n",
    "print(np.concatenate((y_pred_svm.reshape(len(y_pred),1), y_test.values.reshape(len(y_test),1)),1))"
   ]
  },
  {
   "cell_type": "markdown",
   "id": "d249e9fc",
   "metadata": {},
   "source": [
    "## Making the Confusion Matrix"
   ]
  },
  {
   "cell_type": "code",
   "execution_count": null,
   "id": "94ed2a77",
   "metadata": {},
   "outputs": [],
   "source": [
    "from sklearn.metrics import confusion_matrix, accuracy_score\n",
    "cm = confusion_matrix(y_test, y_pred_svm)\n",
    "print(cm)\n",
    "accuracy_score(y_test, y_pred_svm)"
   ]
  },
  {
   "cell_type": "markdown",
   "id": "dd6731ff",
   "metadata": {},
   "source": [
    "# Training the SVM model using linear kernel"
   ]
  },
  {
   "cell_type": "code",
   "execution_count": null,
   "id": "8196c4f0",
   "metadata": {},
   "outputs": [],
   "source": [
    "from sklearn.svm import SVC\n",
    "classifier_svm1 = SVC(kernel = 'linear', random_state = 0)\n",
    "classifier_svm1.fit(X_train, y_train)"
   ]
  },
  {
   "cell_type": "markdown",
   "id": "79deafc5",
   "metadata": {},
   "source": [
    "## Predicting the Test set results"
   ]
  },
  {
   "cell_type": "code",
   "execution_count": null,
   "id": "b5694fb5",
   "metadata": {},
   "outputs": [],
   "source": [
    "y_pred_svm1 = classifier_svm1.predict(X_test)\n",
    "print(np.concatenate((y_pred_svm1.reshape(len(y_pred),1), y_test.values.reshape(len(y_test),1)),1))"
   ]
  },
  {
   "cell_type": "markdown",
   "id": "f0d928dd",
   "metadata": {},
   "source": [
    "## Making the Confusion Matrix"
   ]
  },
  {
   "cell_type": "code",
   "execution_count": null,
   "id": "082712f8",
   "metadata": {},
   "outputs": [],
   "source": [
    "from sklearn.metrics import confusion_matrix, accuracy_score\n",
    "cm = confusion_matrix(y_test, y_pred_svm1)\n",
    "print(cm)\n",
    "accuracy_score(y_test, y_pred_svm1)"
   ]
  },
  {
   "cell_type": "markdown",
   "id": "bc35fc06",
   "metadata": {},
   "source": [
    "# Training the SVM model using poly kernel"
   ]
  },
  {
   "cell_type": "code",
   "execution_count": null,
   "id": "ccf6914f",
   "metadata": {},
   "outputs": [],
   "source": [
    "from sklearn.svm import SVC\n",
    "classifier_svm2 = SVC(kernel = 'poly', default=2, random_state = 0)\n",
    "classifier_svm2.fit(X_train, y_train)"
   ]
  },
  {
   "cell_type": "markdown",
   "id": "ef330d4d",
   "metadata": {},
   "source": [
    "## Predicting the Test set results"
   ]
  },
  {
   "cell_type": "code",
   "execution_count": null,
   "id": "3a515a3b",
   "metadata": {},
   "outputs": [],
   "source": [
    "y_pred_svm2 = classifier_svm2.predict(X_test)\n",
    "print(np.concatenate((y_pred_svm2.reshape(len(y_pred),1), y_test.values.reshape(len(y_test),1)),1))"
   ]
  },
  {
   "cell_type": "markdown",
   "id": "9256b118",
   "metadata": {},
   "source": [
    "## Making the Confusion Matrix"
   ]
  },
  {
   "cell_type": "code",
   "execution_count": null,
   "id": "d28f587c",
   "metadata": {},
   "outputs": [],
   "source": [
    "from sklearn.metrics import confusion_matrix, accuracy_score\n",
    "cm = confusion_matrix(y_test, y_pred_svm2)\n",
    "print(cm)\n",
    "accuracy_score(y_test, y_pred_svm2)"
   ]
  },
  {
   "cell_type": "markdown",
   "id": "f6a8b93d",
   "metadata": {},
   "source": [
    "# Training the SVM model using sigmoid kernel"
   ]
  },
  {
   "cell_type": "code",
   "execution_count": null,
   "id": "b4d0ecef",
   "metadata": {},
   "outputs": [],
   "source": [
    "from sklearn.svm import SVC\n",
    "classifier_svm3 = SVC(kernel = 'sigmoid', random_state = 0)\n",
    "classifier_svm3.fit(X_train, y_train)"
   ]
  },
  {
   "cell_type": "markdown",
   "id": "df193c31",
   "metadata": {},
   "source": [
    "## Predicting the Test set results"
   ]
  },
  {
   "cell_type": "code",
   "execution_count": null,
   "id": "8909b03b",
   "metadata": {},
   "outputs": [],
   "source": [
    "y_pred_svm3 = classifier_svm3.predict(X_test)\n",
    "print(np.concatenate((y_pred_svm3.reshape(len(y_pred),1), y_test.values.reshape(len(y_test),1)),1))"
   ]
  },
  {
   "cell_type": "markdown",
   "id": "0a138f91",
   "metadata": {},
   "source": [
    "## Making the Confusion Matrix"
   ]
  },
  {
   "cell_type": "code",
   "execution_count": null,
   "id": "5c430c3d",
   "metadata": {},
   "outputs": [],
   "source": [
    "from sklearn.metrics import confusion_matrix, accuracy_score\n",
    "cm = confusion_matrix(y_test, y_pred_svm3)\n",
    "print(cm)\n",
    "accuracy_score(y_test, y_pred_svm3)"
   ]
  },
  {
   "cell_type": "markdown",
   "id": "c7376963",
   "metadata": {},
   "source": [
    "# Training the SVM model using precomputed kernel"
   ]
  },
  {
   "cell_type": "code",
   "execution_count": null,
   "id": "3e5bff09",
   "metadata": {},
   "outputs": [],
   "source": [
    "from sklearn.svm import SVC\n",
    "classifier_svm4 = SVC(kernel = 'precomputed', random_state = 0)\n",
    "classifier_svm4.fit(X_train, y_train)"
   ]
  },
  {
   "cell_type": "markdown",
   "id": "07fc89a4",
   "metadata": {},
   "source": [
    "## Predicting the Test set results"
   ]
  },
  {
   "cell_type": "code",
   "execution_count": null,
   "id": "5e5f7804",
   "metadata": {},
   "outputs": [],
   "source": [
    "y_pred_svm4 = classifier_svm4.predict(X_test)\n",
    "print(np.concatenate((y_pred_svm4.reshape(len(y_pred),1), y_test.values.reshape(len(y_test),1)),1))"
   ]
  },
  {
   "cell_type": "markdown",
   "id": "8a616eeb",
   "metadata": {},
   "source": [
    "## Making the Confusion Matrix"
   ]
  },
  {
   "cell_type": "code",
   "execution_count": null,
   "id": "a83c26f4",
   "metadata": {},
   "outputs": [],
   "source": [
    "from sklearn.metrics import confusion_matrix, accuracy_score\n",
    "cm = confusion_matrix(y_test, y_pred_svm4)\n",
    "print(cm)\n",
    "accuracy_score(y_test, y_pred_svm4)"
   ]
  },
  {
   "cell_type": "code",
   "execution_count": null,
   "id": "45cef99a",
   "metadata": {},
   "outputs": [],
   "source": []
  },
  {
   "cell_type": "code",
   "execution_count": null,
   "id": "fe77e24b",
   "metadata": {},
   "outputs": [],
   "source": []
  }
 ],
 "metadata": {
  "kernelspec": {
   "display_name": "Python 3 (ipykernel)",
   "language": "python",
   "name": "python3"
  },
  "language_info": {
   "codemirror_mode": {
    "name": "ipython",
    "version": 3
   },
   "file_extension": ".py",
   "mimetype": "text/x-python",
   "name": "python",
   "nbconvert_exporter": "python",
   "pygments_lexer": "ipython3",
   "version": "3.10.4"
  }
 },
 "nbformat": 4,
 "nbformat_minor": 5
}
