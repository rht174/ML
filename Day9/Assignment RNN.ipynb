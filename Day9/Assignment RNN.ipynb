{
 "cells": [
  {
   "cell_type": "markdown",
   "metadata": {
    "colab_type": "text",
    "id": "view-in-github"
   },
   "source": [
    "<!-- <a href=\"https://colab.research.google.com/github/vkate1/Summer-Training-for-III-year/blob/main/Day9/RNN/rnn.ipynb\" target=\"_parent\"><img src=\"https://colab.research.google.com/assets/colab-badge.svg\" alt=\"Open In Colab\"/></a> -->"
   ]
  },
  {
   "cell_type": "markdown",
   "metadata": {
    "id": "xpAuMVCwfWs8"
   },
   "source": [
    "# Recurrent Neural Network"
   ]
  },
  {
   "cell_type": "markdown",
   "metadata": {
    "id": "nxJfRe4bfYVA"
   },
   "source": [
    "## Part 1 - Data Preprocessing"
   ]
  },
  {
   "cell_type": "markdown",
   "metadata": {
    "id": "ir9zwETrfbrp"
   },
   "source": [
    "### Importing the libraries"
   ]
  },
  {
   "cell_type": "code",
   "execution_count": 1,
   "metadata": {
    "id": "ZT1f24vHffuf"
   },
   "outputs": [],
   "source": [
    "import numpy as np\n",
    "import matplotlib.pyplot as plt\n",
    "import pandas as pd"
   ]
  },
  {
   "cell_type": "markdown",
   "metadata": {
    "id": "nQ47JAxrgmaL"
   },
   "source": [
    "### Importing the training set"
   ]
  },
  {
   "cell_type": "code",
   "execution_count": 2,
   "metadata": {
    "id": "1xiv3pJOgqY3"
   },
   "outputs": [],
   "source": [
    "dataset_train = pd.read_csv('samsung_stock_train.csv')\n",
    "training_set = dataset_train.iloc[:, 1:2].values"
   ]
  },
  {
   "cell_type": "markdown",
   "metadata": {
    "id": "HT8_2UJegtG5"
   },
   "source": [
    "### Feature Scaling"
   ]
  },
  {
   "cell_type": "code",
   "execution_count": 3,
   "metadata": {
    "id": "OTrF2kR7gx9x"
   },
   "outputs": [],
   "source": [
    "from sklearn.preprocessing import MinMaxScaler\n",
    "sc = MinMaxScaler(feature_range = (0, 1))\n",
    "training_set_scaled = sc.fit_transform(training_set)"
   ]
  },
  {
   "cell_type": "markdown",
   "metadata": {
    "id": "JyYgYocqhNUg"
   },
   "source": [
    "### Creating a data structure with 60 timesteps and 1 output"
   ]
  },
  {
   "cell_type": "code",
   "execution_count": 4,
   "metadata": {
    "id": "iofU21B0i6ST"
   },
   "outputs": [],
   "source": [
    "X_train = []\n",
    "y_train = []\n",
    "for i in range(60, 4495):\n",
    "    X_train.append(training_set_scaled[i-60:i, 0])\n",
    "    y_train.append(training_set_scaled[i, 0])\n",
    "X_train, y_train = np.array(X_train), np.array(y_train)"
   ]
  },
  {
   "cell_type": "markdown",
   "metadata": {
    "id": "D8yaN7Zvi95l"
   },
   "source": [
    "### Reshaping"
   ]
  },
  {
   "cell_type": "code",
   "execution_count": 5,
   "metadata": {
    "id": "FOXqJHmNjBkz"
   },
   "outputs": [
    {
     "data": {
      "text/plain": [
       "array([[[0.06615679],\n",
       "        [0.0623327 ],\n",
       "        [0.06137667],\n",
       "        ...,\n",
       "        [0.07533461],\n",
       "        [0.07227533],\n",
       "        [0.08451243]],\n",
       "\n",
       "       [[0.0623327 ],\n",
       "        [0.06137667],\n",
       "        [0.05774379],\n",
       "        ...,\n",
       "        [0.07227533],\n",
       "        [0.08451243],\n",
       "        [0.0833652 ]],\n",
       "\n",
       "       [[0.06137667],\n",
       "        [0.05774379],\n",
       "        [0.0585086 ],\n",
       "        ...,\n",
       "        [0.08451243],\n",
       "        [0.0833652 ],\n",
       "        [0.08585086]],\n",
       "\n",
       "       ...,\n",
       "\n",
       "       [[0.92657744],\n",
       "        [0.92466539],\n",
       "        [0.91548757],\n",
       "        ...,\n",
       "        [0.99426386],\n",
       "        [0.98355641],\n",
       "        [0.98432122]],\n",
       "\n",
       "       [[0.92466539],\n",
       "        [0.91548757],\n",
       "        [0.91931166],\n",
       "        ...,\n",
       "        [0.98355641],\n",
       "        [0.98432122],\n",
       "        [0.99961759]],\n",
       "\n",
       "       [[0.91548757],\n",
       "        [0.91931166],\n",
       "        [0.92198853],\n",
       "        ...,\n",
       "        [0.98432122],\n",
       "        [0.99961759],\n",
       "        [0.99732314]]])"
      ]
     },
     "execution_count": 5,
     "metadata": {},
     "output_type": "execute_result"
    }
   ],
   "source": [
    "X_train = np.reshape(X_train, (X_train.shape[0], X_train.shape[1], 1))\n",
    "X_train"
   ]
  },
  {
   "cell_type": "markdown",
   "metadata": {
    "id": "ZRRSOJeVjEWV"
   },
   "source": [
    "## Part 2 - Building and Training the RNN"
   ]
  },
  {
   "cell_type": "markdown",
   "metadata": {
    "id": "k4XV88JMjHXG"
   },
   "source": [
    "### Importing the Keras libraries and packages"
   ]
  },
  {
   "cell_type": "code",
   "execution_count": 6,
   "metadata": {
    "id": "9JRnqsxEjKsD"
   },
   "outputs": [],
   "source": [
    "from keras.models import Sequential\n",
    "from keras.layers import Dense\n",
    "from keras.layers import LSTM\n",
    "from keras.layers import Dropout"
   ]
  },
  {
   "cell_type": "markdown",
   "metadata": {
    "id": "FEIE-1s9jNzC"
   },
   "source": [
    "### Initialising the RNN"
   ]
  },
  {
   "cell_type": "code",
   "execution_count": 7,
   "metadata": {
    "id": "1338dJ0UjRKH"
   },
   "outputs": [],
   "source": [
    "regressor = Sequential()"
   ]
  },
  {
   "cell_type": "markdown",
   "metadata": {
    "id": "62eg1OPGjT8z"
   },
   "source": [
    "### Adding the first LSTM layer and some Dropout regularisation"
   ]
  },
  {
   "cell_type": "code",
   "execution_count": 8,
   "metadata": {
    "id": "2hIinyXUjbVU"
   },
   "outputs": [],
   "source": [
    "regressor.add(LSTM(units = 50, return_sequences = True, input_shape = (X_train.shape[1], 1)))\n",
    "regressor.add(Dropout(0.2))"
   ]
  },
  {
   "cell_type": "markdown",
   "metadata": {
    "id": "3XBIYLyOjlMx"
   },
   "source": [
    "### Adding a second LSTM layer and some Dropout regularisation"
   ]
  },
  {
   "cell_type": "code",
   "execution_count": 9,
   "metadata": {
    "id": "UG7nrVaSjuZ2"
   },
   "outputs": [],
   "source": [
    "regressor.add(LSTM(units = 50, return_sequences = True))\n",
    "regressor.add(Dropout(0.2))"
   ]
  },
  {
   "cell_type": "markdown",
   "metadata": {
    "id": "Ey3fHVnGj1cu"
   },
   "source": [
    "### Adding a third LSTM layer and some Dropout regularisation"
   ]
  },
  {
   "cell_type": "code",
   "execution_count": 10,
   "metadata": {
    "id": "PuNi6PgFj7jO"
   },
   "outputs": [],
   "source": [
    "regressor.add(LSTM(units = 50, return_sequences = True))\n",
    "regressor.add(Dropout(0.2))"
   ]
  },
  {
   "cell_type": "markdown",
   "metadata": {
    "id": "SYTrtfTmj933"
   },
   "source": [
    "### Adding a fourth LSTM layer and some Dropout regularisation"
   ]
  },
  {
   "cell_type": "code",
   "execution_count": 11,
   "metadata": {
    "id": "Jp4Ty8fRkBYV"
   },
   "outputs": [],
   "source": [
    "regressor.add(LSTM(units = 50))\n",
    "regressor.add(Dropout(0.2))"
   ]
  },
  {
   "cell_type": "markdown",
   "metadata": {
    "id": "9ABI6rOIkHhk"
   },
   "source": [
    "### Adding the output layer"
   ]
  },
  {
   "cell_type": "code",
   "execution_count": 12,
   "metadata": {
    "id": "aM6R1z4WkME8"
   },
   "outputs": [],
   "source": [
    "regressor.add(Dense(units = 1))"
   ]
  },
  {
   "cell_type": "markdown",
   "metadata": {
    "id": "zLx4K7uUkPSh"
   },
   "source": [
    "### Compiling the RNN"
   ]
  },
  {
   "cell_type": "code",
   "execution_count": 13,
   "metadata": {
    "id": "XTrhVN-tkbko"
   },
   "outputs": [],
   "source": [
    "regressor.compile(optimizer = 'adam', loss = 'mean_squared_error')"
   ]
  },
  {
   "cell_type": "markdown",
   "metadata": {
    "id": "-mPhwKGkkebi"
   },
   "source": [
    "### Fitting the RNN to the Training set"
   ]
  },
  {
   "cell_type": "code",
   "execution_count": 14,
   "metadata": {
    "colab": {
     "base_uri": "https://localhost:8080/"
    },
    "id": "I06Nkrz5kkb-",
    "outputId": "e46035e3-2c86-4977-aa29-eb55b1ee9b98"
   },
   "outputs": [
    {
     "name": "stdout",
     "output_type": "stream",
     "text": [
      "Epoch 1/100\n",
      "139/139 [==============================] - 15s 70ms/step - loss: 0.0067\n",
      "Epoch 2/100\n",
      "139/139 [==============================] - 9s 68ms/step - loss: 0.0015\n",
      "Epoch 3/100\n",
      "139/139 [==============================] - 9s 68ms/step - loss: 0.0013\n",
      "Epoch 4/100\n",
      "139/139 [==============================] - 9s 68ms/step - loss: 0.0011\n",
      "Epoch 5/100\n",
      "139/139 [==============================] - 9s 68ms/step - loss: 9.8724e-04\n",
      "Epoch 6/100\n",
      "139/139 [==============================] - 10s 74ms/step - loss: 0.0011\n",
      "Epoch 7/100\n",
      "139/139 [==============================] - 10s 74ms/step - loss: 0.0011\n",
      "Epoch 8/100\n",
      "139/139 [==============================] - 10s 69ms/step - loss: 0.0010\n",
      "Epoch 9/100\n",
      "139/139 [==============================] - 10s 69ms/step - loss: 8.3225e-04\n",
      "Epoch 10/100\n",
      "139/139 [==============================] - 10s 70ms/step - loss: 8.4813e-04\n",
      "Epoch 11/100\n",
      "139/139 [==============================] - 10s 69ms/step - loss: 8.2025e-04\n",
      "Epoch 12/100\n",
      "139/139 [==============================] - 10s 69ms/step - loss: 7.6431e-04\n",
      "Epoch 13/100\n",
      "139/139 [==============================] - 10s 70ms/step - loss: 7.8786e-04\n",
      "Epoch 14/100\n",
      "139/139 [==============================] - 10s 69ms/step - loss: 7.7371e-04\n",
      "Epoch 15/100\n",
      "139/139 [==============================] - 10s 70ms/step - loss: 7.3136e-04\n",
      "Epoch 16/100\n",
      "139/139 [==============================] - 10s 69ms/step - loss: 7.5060e-04\n",
      "Epoch 17/100\n",
      "139/139 [==============================] - 10s 72ms/step - loss: 7.1513e-04\n",
      "Epoch 18/100\n",
      "139/139 [==============================] - 10s 74ms/step - loss: 6.8709e-04\n",
      "Epoch 19/100\n",
      "139/139 [==============================] - 10s 69ms/step - loss: 6.6994e-04\n",
      "Epoch 20/100\n",
      "139/139 [==============================] - 10s 70ms/step - loss: 5.9576e-04\n",
      "Epoch 21/100\n",
      "139/139 [==============================] - 10s 73ms/step - loss: 5.6044e-04\n",
      "Epoch 22/100\n",
      "139/139 [==============================] - 10s 76ms/step - loss: 5.7657e-04\n",
      "Epoch 23/100\n",
      "139/139 [==============================] - 10s 74ms/step - loss: 5.7647e-04\n",
      "Epoch 24/100\n",
      "139/139 [==============================] - 10s 75ms/step - loss: 6.1078e-04\n",
      "Epoch 25/100\n",
      "139/139 [==============================] - 10s 75ms/step - loss: 6.2150e-04\n",
      "Epoch 26/100\n",
      "139/139 [==============================] - 11s 82ms/step - loss: 5.6475e-04\n",
      "Epoch 27/100\n",
      "139/139 [==============================] - 10s 74ms/step - loss: 5.3520e-04\n",
      "Epoch 28/100\n",
      "139/139 [==============================] - 10s 73ms/step - loss: 5.9086e-04\n",
      "Epoch 29/100\n",
      "139/139 [==============================] - 10s 74ms/step - loss: 5.8000e-04\n",
      "Epoch 30/100\n",
      "139/139 [==============================] - 11s 78ms/step - loss: 5.3727e-04\n",
      "Epoch 31/100\n",
      "139/139 [==============================] - 10s 71ms/step - loss: 5.3595e-04\n",
      "Epoch 32/100\n",
      "139/139 [==============================] - 10s 71ms/step - loss: 4.9829e-04\n",
      "Epoch 33/100\n",
      "139/139 [==============================] - 10s 71ms/step - loss: 5.4775e-04\n",
      "Epoch 34/100\n",
      "139/139 [==============================] - 10s 71ms/step - loss: 5.5185e-04\n",
      "Epoch 35/100\n",
      "139/139 [==============================] - 10s 71ms/step - loss: 4.7922e-04\n",
      "Epoch 36/100\n",
      "139/139 [==============================] - 10s 71ms/step - loss: 5.2329e-04\n",
      "Epoch 37/100\n",
      "139/139 [==============================] - 10s 72ms/step - loss: 4.8907e-04\n",
      "Epoch 38/100\n",
      "139/139 [==============================] - 10s 71ms/step - loss: 5.6142e-04\n",
      "Epoch 39/100\n",
      "139/139 [==============================] - 11s 77ms/step - loss: 4.7528e-04\n",
      "Epoch 40/100\n",
      "139/139 [==============================] - 10s 74ms/step - loss: 5.1101e-04\n",
      "Epoch 41/100\n",
      "139/139 [==============================] - 10s 74ms/step - loss: 5.0884e-04\n",
      "Epoch 42/100\n",
      "139/139 [==============================] - 10s 74ms/step - loss: 5.3009e-04\n",
      "Epoch 43/100\n",
      "139/139 [==============================] - 10s 74ms/step - loss: 4.6956e-04\n",
      "Epoch 44/100\n",
      "139/139 [==============================] - 10s 74ms/step - loss: 4.4871e-04\n",
      "Epoch 45/100\n",
      "139/139 [==============================] - 10s 74ms/step - loss: 4.4552e-04\n",
      "Epoch 46/100\n",
      "139/139 [==============================] - 10s 74ms/step - loss: 5.2167e-04\n",
      "Epoch 47/100\n",
      "139/139 [==============================] - 10s 71ms/step - loss: 4.8027e-04\n",
      "Epoch 48/100\n",
      "139/139 [==============================] - 10s 73ms/step - loss: 5.0560e-04\n",
      "Epoch 49/100\n",
      "139/139 [==============================] - 10s 71ms/step - loss: 4.8112e-04\n",
      "Epoch 50/100\n",
      "139/139 [==============================] - 9s 68ms/step - loss: 4.9146e-04\n",
      "Epoch 51/100\n",
      "139/139 [==============================] - 9s 68ms/step - loss: 4.6777e-04\n",
      "Epoch 52/100\n",
      "139/139 [==============================] - 9s 68ms/step - loss: 5.1338e-04\n",
      "Epoch 53/100\n",
      "139/139 [==============================] - 9s 67ms/step - loss: 4.9570e-04\n",
      "Epoch 54/100\n",
      "139/139 [==============================] - 9s 67ms/step - loss: 5.0714e-04\n",
      "Epoch 55/100\n",
      "139/139 [==============================] - 9s 68ms/step - loss: 4.9905e-04\n",
      "Epoch 56/100\n",
      "139/139 [==============================] - 9s 67ms/step - loss: 4.4222e-04\n",
      "Epoch 57/100\n",
      "139/139 [==============================] - 9s 68ms/step - loss: 4.6601e-04\n",
      "Epoch 58/100\n",
      "139/139 [==============================] - 9s 67ms/step - loss: 5.6361e-04\n",
      "Epoch 59/100\n",
      "139/139 [==============================] - 9s 67ms/step - loss: 5.4284e-04\n",
      "Epoch 60/100\n",
      "139/139 [==============================] - 9s 67ms/step - loss: 4.6051e-04\n",
      "Epoch 61/100\n",
      "139/139 [==============================] - 9s 68ms/step - loss: 4.3437e-04\n",
      "Epoch 62/100\n",
      "139/139 [==============================] - 9s 68ms/step - loss: 4.6032e-04\n",
      "Epoch 63/100\n",
      "139/139 [==============================] - 9s 68ms/step - loss: 4.5493e-04\n",
      "Epoch 64/100\n",
      "139/139 [==============================] - 9s 68ms/step - loss: 4.3505e-04\n",
      "Epoch 65/100\n",
      "139/139 [==============================] - 9s 67ms/step - loss: 4.3683e-04\n",
      "Epoch 66/100\n",
      "139/139 [==============================] - 9s 68ms/step - loss: 4.6080e-04\n",
      "Epoch 67/100\n",
      "139/139 [==============================] - 9s 67ms/step - loss: 4.5689e-04\n",
      "Epoch 68/100\n",
      "139/139 [==============================] - 9s 68ms/step - loss: 4.3048e-04\n",
      "Epoch 69/100\n",
      "139/139 [==============================] - 9s 68ms/step - loss: 4.7790e-04\n",
      "Epoch 70/100\n",
      "139/139 [==============================] - 9s 67ms/step - loss: 5.0288e-04\n",
      "Epoch 71/100\n",
      "139/139 [==============================] - 9s 68ms/step - loss: 4.6398e-04\n",
      "Epoch 72/100\n",
      "139/139 [==============================] - 9s 67ms/step - loss: 4.1037e-04\n",
      "Epoch 73/100\n",
      "139/139 [==============================] - 9s 67ms/step - loss: 4.8607e-04\n",
      "Epoch 74/100\n",
      "139/139 [==============================] - 10s 74ms/step - loss: 4.9392e-04\n",
      "Epoch 75/100\n",
      "139/139 [==============================] - 11s 76ms/step - loss: 4.4597e-04\n",
      "Epoch 76/100\n",
      "139/139 [==============================] - 10s 75ms/step - loss: 3.9964e-04\n",
      "Epoch 77/100\n",
      "139/139 [==============================] - 11s 76ms/step - loss: 4.2583e-04\n",
      "Epoch 78/100\n",
      "139/139 [==============================] - 11s 83ms/step - loss: 4.2708e-04\n",
      "Epoch 79/100\n",
      "139/139 [==============================] - 11s 78ms/step - loss: 4.3099e-04\n",
      "Epoch 80/100\n",
      "139/139 [==============================] - 11s 81ms/step - loss: 4.1115e-04\n",
      "Epoch 81/100\n",
      "139/139 [==============================] - 11s 80ms/step - loss: 4.0883e-04\n",
      "Epoch 82/100\n",
      "139/139 [==============================] - 12s 83ms/step - loss: 4.0690e-04\n",
      "Epoch 83/100\n",
      "139/139 [==============================] - 12s 87ms/step - loss: 3.9934e-04\n",
      "Epoch 84/100\n",
      "139/139 [==============================] - 11s 80ms/step - loss: 4.3067e-04\n",
      "Epoch 85/100\n",
      "139/139 [==============================] - 11s 81ms/step - loss: 4.1059e-04\n",
      "Epoch 86/100\n",
      "139/139 [==============================] - 12s 87ms/step - loss: 4.3803e-04\n",
      "Epoch 87/100\n",
      "139/139 [==============================] - 10s 76ms/step - loss: 3.9715e-04\n",
      "Epoch 88/100\n",
      "139/139 [==============================] - 11s 76ms/step - loss: 4.3319e-04\n",
      "Epoch 89/100\n",
      "139/139 [==============================] - 11s 76ms/step - loss: 3.9245e-04\n",
      "Epoch 90/100\n",
      "139/139 [==============================] - 11s 76ms/step - loss: 4.1112e-04\n",
      "Epoch 91/100\n",
      "139/139 [==============================] - 11s 77ms/step - loss: 4.2409e-04\n",
      "Epoch 92/100\n",
      "139/139 [==============================] - 10s 76ms/step - loss: 4.1956e-04\n",
      "Epoch 93/100\n"
     ]
    },
    {
     "name": "stdout",
     "output_type": "stream",
     "text": [
      "139/139 [==============================] - 10s 75ms/step - loss: 4.1590e-04\n",
      "Epoch 94/100\n",
      "139/139 [==============================] - 11s 76ms/step - loss: 4.3071e-04\n",
      "Epoch 95/100\n",
      "139/139 [==============================] - 11s 77ms/step - loss: 3.9180e-04\n",
      "Epoch 96/100\n",
      "139/139 [==============================] - 10s 75ms/step - loss: 4.2372e-04\n",
      "Epoch 97/100\n",
      "139/139 [==============================] - 11s 78ms/step - loss: 3.9591e-04\n",
      "Epoch 98/100\n",
      "139/139 [==============================] - 10s 70ms/step - loss: 4.3466e-04\n",
      "Epoch 99/100\n",
      "139/139 [==============================] - 9s 68ms/step - loss: 3.9239e-04\n",
      "Epoch 100/100\n",
      "139/139 [==============================] - 9s 68ms/step - loss: 4.0516e-04\n"
     ]
    },
    {
     "data": {
      "text/plain": [
       "<keras.callbacks.History at 0x27341ba7610>"
      ]
     },
     "execution_count": 14,
     "metadata": {},
     "output_type": "execute_result"
    }
   ],
   "source": [
    "regressor.fit(X_train, y_train, epochs = 100, batch_size = 32)"
   ]
  },
  {
   "cell_type": "markdown",
   "metadata": {
    "id": "4hRau_lIkrE8"
   },
   "source": [
    "## Part 3 - Making the predictions and visualising the results"
   ]
  },
  {
   "cell_type": "markdown",
   "metadata": {
    "id": "SgJO6qEDksxD"
   },
   "source": [
    "### Getting the real stock price of 2017"
   ]
  },
  {
   "cell_type": "code",
   "execution_count": 18,
   "metadata": {
    "id": "FmBT2zqukxTz"
   },
   "outputs": [],
   "source": [
    "dataset_test = pd.read_csv('samsung_stock_test.csv')\n",
    "real_stock_price = dataset_test.iloc[:, 1:2].values"
   ]
  },
  {
   "cell_type": "markdown",
   "metadata": {
    "id": "GrvrLblxkz42"
   },
   "source": [
    "### Getting the predicted stock price of 2017"
   ]
  },
  {
   "cell_type": "code",
   "execution_count": 19,
   "metadata": {
    "id": "emikTvUpk3Ck"
   },
   "outputs": [
    {
     "name": "stdout",
     "output_type": "stream",
     "text": [
      "1/1 [==============================] - 0s 31ms/step\n"
     ]
    }
   ],
   "source": [
    "dataset_total = pd.concat((dataset_train['Open'], dataset_test['Open']), axis = 0)\n",
    "inputs = dataset_total[len(dataset_total) - len(dataset_test) - 60:].values\n",
    "inputs = inputs.reshape(-1,1)\n",
    "inputs = sc.transform(inputs)\n",
    "X_test = []\n",
    "for i in range(60, 80):\n",
    "    X_test.append(inputs[i-60:i, 0])\n",
    "X_test = np.array(X_test)\n",
    "X_test = np.reshape(X_test, (X_test.shape[0], X_test.shape[1], 1))\n",
    "predicted_stock_price = regressor.predict(X_test)\n",
    "predicted_stock_price = sc.inverse_transform(predicted_stock_price)"
   ]
  },
  {
   "cell_type": "markdown",
   "metadata": {
    "id": "iFTNs3YHk6FQ"
   },
   "source": [
    "### Visualising the results"
   ]
  },
  {
   "cell_type": "code",
   "execution_count": 20,
   "metadata": {
    "colab": {
     "base_uri": "https://localhost:8080/",
     "height": 295
    },
    "id": "8OUI8U49k9tH",
    "outputId": "afa60121-dd64-49dd-8d3e-45509932c3d2"
   },
   "outputs": [
    {
     "data": {
      "image/png": "[encoded data removed]",
      "text/plain": [
       "<Figure size 432x288 with 1 Axes>"
      ]
     },
     "metadata": {
      "needs_background": "light"
     },
     "output_type": "display_data"
    }
   ],
   "source": [
    "plt.plot(real_stock_price, color = 'red', label = 'Real Google Stock Price')\n",
    "plt.plot(predicted_stock_price, color = 'blue', label = 'Predicted Google Stock Price')\n",
    "plt.title('Google Stock Price Prediction')\n",
    "plt.xlabel('Time')\n",
    "plt.ylabel('Google Stock Price')\n",
    "plt.legend()\n",
    "plt.show()"
   ]
  },
  {
   "cell_type": "code",
   "execution_count": null,
   "metadata": {},
   "outputs": [],
   "source": []
  }
 ],
 "metadata": {
  "colab": {
   "collapsed_sections": [],
   "include_colab_link": true,
   "name": "rnn.ipynb",
   "provenance": []
  },
  "kernelspec": {
   "display_name": "Python 3 (ipykernel)",
   "language": "python",
   "name": "python3"
  },
  "language_info": {
   "codemirror_mode": {
    "name": "ipython",
    "version": 3
   },
   "file_extension": ".py",
   "mimetype": "text/x-python",
   "name": "python",
   "nbconvert_exporter": "python",
   "pygments_lexer": "ipython3",
   "version": "3.10.4"
  }
 },
 "nbformat": 4,
 "nbformat_minor": 1
}
