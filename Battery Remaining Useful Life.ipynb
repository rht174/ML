{
 "cells": [
  {
   "cell_type": "markdown",
   "id": "fa4ad9d8",
   "metadata": {},
   "source": [
    "# Battery Remaining Useful Life Prediction"
   ]
  },
  {
   "cell_type": "code",
   "execution_count": 1,
   "id": "a5870cd9",
   "metadata": {},
   "outputs": [],
   "source": [
    "import pandas as pd\n",
    "import numpy as np\n",
    "import matplotlib.pyplot as plt\n",
    "from sklearn.model_selection import train_test_split"
   ]
  },
  {
   "cell_type": "markdown",
   "id": "5bb57ddd",
   "metadata": {},
   "source": [
    "## Reading Data"
   ]
  },
  {
   "cell_type": "code",
   "execution_count": 2,
   "id": "191365ea",
   "metadata": {},
   "outputs": [
    {
     "data": {
      "text/html": [
       "<div>\n",
       "<style scoped>\n",
       "    .dataframe tbody tr th:only-of-type {\n",
       "        vertical-align: middle;\n",
       "    }\n",
       "\n",
       "    .dataframe tbody tr th {\n",
       "        vertical-align: top;\n",
       "    }\n",
       "\n",
       "    .dataframe thead th {\n",
       "        text-align: right;\n",
       "    }\n",
       "</style>\n",
       "<table border=\"1\" class=\"dataframe\">\n",
       "  <thead>\n",
       "    <tr style=\"text-align: right;\">\n",
       "      <th></th>\n",
       "      <th>Cycle_Index</th>\n",
       "      <th>Discharge Time (s)</th>\n",
       "      <th>Decrement 3.6-3.4V (s)</th>\n",
       "      <th>Max. Voltage Dischar. (V)</th>\n",
       "      <th>Min. Voltage Charg. (V)</th>\n",
       "      <th>Time at 4.15V (s)</th>\n",
       "      <th>Time constant current (s)</th>\n",
       "      <th>Charging time (s)</th>\n",
       "      <th>RUL</th>\n",
       "    </tr>\n",
       "  </thead>\n",
       "  <tbody>\n",
       "    <tr>\n",
       "      <th>0</th>\n",
       "      <td>1.0</td>\n",
       "      <td>2595.30</td>\n",
       "      <td>1151.488500</td>\n",
       "      <td>3.670</td>\n",
       "      <td>3.211</td>\n",
       "      <td>5460.001</td>\n",
       "      <td>6755.01</td>\n",
       "      <td>10777.82</td>\n",
       "      <td>1112</td>\n",
       "    </tr>\n",
       "    <tr>\n",
       "      <th>1</th>\n",
       "      <td>2.0</td>\n",
       "      <td>7408.64</td>\n",
       "      <td>1172.512500</td>\n",
       "      <td>4.246</td>\n",
       "      <td>3.220</td>\n",
       "      <td>5508.992</td>\n",
       "      <td>6762.02</td>\n",
       "      <td>10500.35</td>\n",
       "      <td>1111</td>\n",
       "    </tr>\n",
       "    <tr>\n",
       "      <th>2</th>\n",
       "      <td>3.0</td>\n",
       "      <td>7393.76</td>\n",
       "      <td>1112.992000</td>\n",
       "      <td>4.249</td>\n",
       "      <td>3.224</td>\n",
       "      <td>5508.993</td>\n",
       "      <td>6762.02</td>\n",
       "      <td>10420.38</td>\n",
       "      <td>1110</td>\n",
       "    </tr>\n",
       "    <tr>\n",
       "      <th>3</th>\n",
       "      <td>4.0</td>\n",
       "      <td>7385.50</td>\n",
       "      <td>1080.320667</td>\n",
       "      <td>4.250</td>\n",
       "      <td>3.225</td>\n",
       "      <td>5502.016</td>\n",
       "      <td>6762.02</td>\n",
       "      <td>10322.81</td>\n",
       "      <td>1109</td>\n",
       "    </tr>\n",
       "    <tr>\n",
       "      <th>4</th>\n",
       "      <td>6.0</td>\n",
       "      <td>65022.75</td>\n",
       "      <td>29813.487000</td>\n",
       "      <td>4.290</td>\n",
       "      <td>3.398</td>\n",
       "      <td>5480.992</td>\n",
       "      <td>53213.54</td>\n",
       "      <td>56699.65</td>\n",
       "      <td>1107</td>\n",
       "    </tr>\n",
       "  </tbody>\n",
       "</table>\n",
       "</div>"
      ],
      "text/plain": [
       "   Cycle_Index  Discharge Time (s)  Decrement 3.6-3.4V (s)  \\\n",
       "0          1.0             2595.30             1151.488500   \n",
       "1          2.0             7408.64             1172.512500   \n",
       "2          3.0             7393.76             1112.992000   \n",
       "3          4.0             7385.50             1080.320667   \n",
       "4          6.0            65022.75            29813.487000   \n",
       "\n",
       "   Max. Voltage Dischar. (V)  Min. Voltage Charg. (V)  Time at 4.15V (s)  \\\n",
       "0                      3.670                    3.211           5460.001   \n",
       "1                      4.246                    3.220           5508.992   \n",
       "2                      4.249                    3.224           5508.993   \n",
       "3                      4.250                    3.225           5502.016   \n",
       "4                      4.290                    3.398           5480.992   \n",
       "\n",
       "   Time constant current (s)  Charging time (s)   RUL  \n",
       "0                    6755.01           10777.82  1112  \n",
       "1                    6762.02           10500.35  1111  \n",
       "2                    6762.02           10420.38  1110  \n",
       "3                    6762.02           10322.81  1109  \n",
       "4                   53213.54           56699.65  1107  "
      ]
     },
     "execution_count": 2,
     "metadata": {},
     "output_type": "execute_result"
    }
   ],
   "source": [
    "df = pd.read_csv('Battery_RUL.csv')\n",
    "df.head()"
   ]
  },
  {
   "cell_type": "code",
   "execution_count": null,
   "id": "419e5703",
   "metadata": {},
   "outputs": [],
   "source": []
  },
  {
   "cell_type": "code",
   "execution_count": 3,
   "id": "7581029f",
   "metadata": {},
   "outputs": [],
   "source": [
    "# train_x, test_x = train_test_split(df, train_size= 0.8, random_state= 17, shuffle = True)\n",
    "# train_x"
   ]
  },
  {
   "cell_type": "code",
   "execution_count": null,
   "id": "2ae52afd",
   "metadata": {},
   "outputs": [],
   "source": []
  },
  {
   "cell_type": "code",
   "execution_count": 4,
   "id": "a7467c56",
   "metadata": {},
   "outputs": [
    {
     "data": {
      "text/plain": [
       "(15064, 9)"
      ]
     },
     "execution_count": 4,
     "metadata": {},
     "output_type": "execute_result"
    }
   ],
   "source": [
    "df.shape"
   ]
  },
  {
   "cell_type": "code",
   "execution_count": 5,
   "id": "50ffe983",
   "metadata": {},
   "outputs": [
    {
     "data": {
      "text/plain": [
       "count    15064.000000\n",
       "mean       554.194172\n",
       "std        322.434514\n",
       "min          0.000000\n",
       "25%        277.000000\n",
       "50%        551.000000\n",
       "75%        839.000000\n",
       "max       1133.000000\n",
       "Name: RUL, dtype: float64"
      ]
     },
     "execution_count": 5,
     "metadata": {},
     "output_type": "execute_result"
    }
   ],
   "source": [
    "df.RUL.describe()"
   ]
  },
  {
   "cell_type": "code",
   "execution_count": 6,
   "id": "0bd3b8e0",
   "metadata": {},
   "outputs": [
    {
     "data": {
      "image/png": "[encoded data removed]",
      "text/plain": [
       "<Figure size 432x288 with 1 Axes>"
      ]
     },
     "metadata": {
      "needs_background": "light"
     },
     "output_type": "display_data"
    }
   ],
   "source": [
    "plt.hist(df.RUL, color='Red')\n",
    "plt.show()"
   ]
  },
  {
   "cell_type": "code",
   "execution_count": 7,
   "id": "e377fe19",
   "metadata": {},
   "outputs": [],
   "source": [
    "# target = np.log(df.RUL)\n",
    "# plt.hist(target, color='Blue')\n",
    "# plt.show()"
   ]
  },
  {
   "cell_type": "code",
   "execution_count": 8,
   "id": "b509b953",
   "metadata": {},
   "outputs": [
    {
     "data": {
      "text/plain": [
       "Cycle_Index                  float64\n",
       "Discharge Time (s)           float64\n",
       "Decrement 3.6-3.4V (s)       float64\n",
       "Max. Voltage Dischar. (V)    float64\n",
       "Min. Voltage Charg. (V)      float64\n",
       "Time at 4.15V (s)            float64\n",
       "Time constant current (s)    float64\n",
       "Charging time (s)            float64\n",
       "RUL                            int64\n",
       "dtype: object"
      ]
     },
     "execution_count": 8,
     "metadata": {},
     "output_type": "execute_result"
    }
   ],
   "source": [
    "numeric_features = df.select_dtypes(include=[np.number])\n",
    "numeric_features.dtypes"
   ]
  },
  {
   "cell_type": "code",
   "execution_count": 9,
   "id": "3936766c",
   "metadata": {},
   "outputs": [
    {
     "name": "stdout",
     "output_type": "stream",
     "text": [
      "RUL                          1.000000\n",
      "Max. Voltage Dischar. (V)    0.782800\n",
      "Time at 4.15V (s)            0.176514\n",
      "Time constant current (s)    0.040675\n",
      "Charging time (s)            0.018299\n",
      "Name: RUL, dtype: float64 \n",
      "\n",
      "Charging time (s)          0.018299\n",
      "Decrement 3.6-3.4V (s)     0.011998\n",
      "Discharge Time (s)         0.011957\n",
      "Min. Voltage Charg. (V)   -0.759805\n",
      "Cycle_Index               -0.999756\n",
      "Name: RUL, dtype: float64 \n",
      "\n"
     ]
    }
   ],
   "source": [
    "corr = numeric_features.corr()\n",
    "print(corr['RUL'].sort_values(ascending=False)[:5],'\\n')\n",
    "print(corr['RUL'].sort_values(ascending=False)[-5:],'\\n')"
   ]
  },
  {
   "cell_type": "code",
   "execution_count": 10,
   "id": "0cfead0d",
   "metadata": {},
   "outputs": [
    {
     "data": {
      "image/png": "[encoded data removed]",
      "text/plain": [
       "<Figure size 432x288 with 1 Axes>"
      ]
     },
     "metadata": {
      "needs_background": "light"
     },
     "output_type": "display_data"
    }
   ],
   "source": [
    "max_volt_pivot=df.pivot_table(index='Max. Voltage Dischar. (V)',values='RUL', aggfunc=np.median)\n",
    "max_volt_pivot.plot(kind='bar', color='blue')\n",
    "\n",
    "plt.xlabel('Max. Voltage Dischar. (V)')\n",
    "plt.ylabel('Median RUL')\n",
    "plt.xticks(rotation=0)\n",
    "plt.show()"
   ]
  },
  {
   "cell_type": "code",
   "execution_count": 11,
   "id": "55876014",
   "metadata": {},
   "outputs": [
    {
     "name": "stderr",
     "output_type": "stream",
     "text": [
      "C:\\Users\\rohit\\AppData\\Local\\Programs\\Python\\Python310\\lib\\site-packages\\pandas\\core\\arraylike.py:397: RuntimeWarning: divide by zero encountered in log\n",
      "  result = getattr(ufunc, method)(*inputs, **kwargs)\n"
     ]
    },
    {
     "data": {
      "image/png": "[encoded data removed]",
      "text/plain": [
       "<Figure size 432x288 with 1 Axes>"
      ]
     },
     "metadata": {
      "needs_background": "light"
     },
     "output_type": "display_data"
    }
   ],
   "source": [
    "plt.scatter(x=df['Time at 4.15V (s)'], y=np.log(df['RUL']))\n",
    "plt.ylabel('RUL')\n",
    "plt.xlabel('Time at 4.15V (s)')\n",
    "\n",
    "plt.show()"
   ]
  },
  {
   "cell_type": "code",
   "execution_count": 12,
   "id": "d213eb79",
   "metadata": {},
   "outputs": [
    {
     "data": {
      "image/png": "[encoded data removed]",
      "text/plain": [
       "<Figure size 432x288 with 1 Axes>"
      ]
     },
     "metadata": {
      "needs_background": "light"
     },
     "output_type": "display_data"
    }
   ],
   "source": [
    "df = df[df['Time at 4.15V (s)']<100000]\n",
    "\n",
    "plt.scatter(x=df['Time at 4.15V (s)'], y=np.log(df.RUL))\n",
    "plt.ylabel('RUL')\n",
    "plt.xlabel('Time at 4.15V (s)')\n",
    "\n",
    "plt.show()"
   ]
  },
  {
   "cell_type": "code",
   "execution_count": 13,
   "id": "1ae5517a",
   "metadata": {},
   "outputs": [
    {
     "data": {
      "image/png": "[encoded data removed]",
      "text/plain": [
       "<Figure size 432x288 with 1 Axes>"
      ]
     },
     "metadata": {
      "needs_background": "light"
     },
     "output_type": "display_data"
    }
   ],
   "source": [
    "plt.scatter(x=df['Charging time (s)'], y=np.log(df['RUL']))\n",
    "plt.ylabel('RUL')\n",
    "plt.xlabel('Charging time (s)')\n",
    "\n",
    "plt.show()"
   ]
  },
  {
   "cell_type": "code",
   "execution_count": 14,
   "id": "cd16385a",
   "metadata": {},
   "outputs": [
    {
     "data": {
      "image/png": "[encoded data removed]",
      "text/plain": [
       "<Figure size 432x288 with 1 Axes>"
      ]
     },
     "metadata": {
      "needs_background": "light"
     },
     "output_type": "display_data"
    }
   ],
   "source": [
    "df = df[df['Charging time (s)']<200000]\n",
    "\n",
    "plt.scatter(x=df['Charging time (s)'], y=np.log(df.RUL))\n",
    "plt.ylabel('RUL')\n",
    "plt.xlabel('Charging time (s)')\n",
    "\n",
    "plt.show()"
   ]
  },
  {
   "cell_type": "code",
   "execution_count": 15,
   "id": "24c7aa1f",
   "metadata": {},
   "outputs": [
    {
     "data": {
      "text/html": [
       "<div>\n",
       "<style scoped>\n",
       "    .dataframe tbody tr th:only-of-type {\n",
       "        vertical-align: middle;\n",
       "    }\n",
       "\n",
       "    .dataframe tbody tr th {\n",
       "        vertical-align: top;\n",
       "    }\n",
       "\n",
       "    .dataframe thead th {\n",
       "        text-align: right;\n",
       "    }\n",
       "</style>\n",
       "<table border=\"1\" class=\"dataframe\">\n",
       "  <thead>\n",
       "    <tr style=\"text-align: right;\">\n",
       "      <th></th>\n",
       "      <th>Null Count</th>\n",
       "    </tr>\n",
       "    <tr>\n",
       "      <th>Feature</th>\n",
       "      <th></th>\n",
       "    </tr>\n",
       "  </thead>\n",
       "  <tbody>\n",
       "    <tr>\n",
       "      <th>Cycle_Index</th>\n",
       "      <td>0</td>\n",
       "    </tr>\n",
       "    <tr>\n",
       "      <th>Discharge Time (s)</th>\n",
       "      <td>0</td>\n",
       "    </tr>\n",
       "    <tr>\n",
       "      <th>Decrement 3.6-3.4V (s)</th>\n",
       "      <td>0</td>\n",
       "    </tr>\n",
       "    <tr>\n",
       "      <th>Max. Voltage Dischar. (V)</th>\n",
       "      <td>0</td>\n",
       "    </tr>\n",
       "    <tr>\n",
       "      <th>Min. Voltage Charg. (V)</th>\n",
       "      <td>0</td>\n",
       "    </tr>\n",
       "    <tr>\n",
       "      <th>Time at 4.15V (s)</th>\n",
       "      <td>0</td>\n",
       "    </tr>\n",
       "    <tr>\n",
       "      <th>Time constant current (s)</th>\n",
       "      <td>0</td>\n",
       "    </tr>\n",
       "    <tr>\n",
       "      <th>Charging time (s)</th>\n",
       "      <td>0</td>\n",
       "    </tr>\n",
       "    <tr>\n",
       "      <th>RUL</th>\n",
       "      <td>0</td>\n",
       "    </tr>\n",
       "  </tbody>\n",
       "</table>\n",
       "</div>"
      ],
      "text/plain": [
       "                           Null Count\n",
       "Feature                              \n",
       "Cycle_Index                         0\n",
       "Discharge Time (s)                  0\n",
       "Decrement 3.6-3.4V (s)              0\n",
       "Max. Voltage Dischar. (V)           0\n",
       "Min. Voltage Charg. (V)             0\n",
       "Time at 4.15V (s)                   0\n",
       "Time constant current (s)           0\n",
       "Charging time (s)                   0\n",
       "RUL                                 0"
      ]
     },
     "execution_count": 15,
     "metadata": {},
     "output_type": "execute_result"
    }
   ],
   "source": [
    "nulls=pd.DataFrame(df.isnull().sum().sort_values(ascending=False)[:25])\n",
    "nulls.columns=['Null Count']\n",
    "nulls.index.name='Feature'\n",
    "nulls"
   ]
  },
  {
   "cell_type": "code",
   "execution_count": 18,
   "id": "74c61485",
   "metadata": {},
   "outputs": [],
   "source": [
    "y = np.log(df.RUL)\n",
    "x=df.drop(['RUL'],axis=1)"
   ]
  },
  {
   "cell_type": "code",
   "execution_count": 19,
   "id": "c542613f",
   "metadata": {},
   "outputs": [],
   "source": [
    "x_train, x_test, y_train, y_test = train_test_split(x, y, train_size=0.8, random_state=69, shuffle=True)"
   ]
  },
  {
   "cell_type": "code",
   "execution_count": 21,
   "id": "96418673",
   "metadata": {},
   "outputs": [
    {
     "name": "stdout",
     "output_type": "stream",
     "text": [
      "Linear Regression Train Score is :  0.76842684046839\n",
      "Linear Regression Test Score is :  0.7718170294065043\n",
      "Linear Regression Coef is :  [-3.36430600e-03  4.23869003e-05 -4.91929433e-07  4.38328605e-01\n",
      "  4.59356632e-02 -9.76195467e-05 -1.44374108e-04  1.15629375e-04]\n",
      "Linear Regression intercept is :  5.814851922634354\n"
     ]
    }
   ],
   "source": [
    "from sklearn.linear_model import LinearRegression\n",
    "LinearRegressionModel = LinearRegression()\n",
    "LinearRegressionModel.fit(x_train, y_train)\n",
    "print('Linear Regression Train Score is : ' , LinearRegressionModel.score(x_train, y_train))\n",
    "print('Linear Regression Test Score is : ' , LinearRegressionModel.score(x_test, y_test))\n",
    "print('Linear Regression Coef is : ' , LinearRegressionModel.coef_)\n",
    "print('Linear Regression intercept is : ' , LinearRegressionModel.intercept_)"
   ]
  },
  {
   "cell_type": "code",
   "execution_count": 23,
   "id": "bbd40e1c",
   "metadata": {},
   "outputs": [
    {
     "name": "stdout",
     "output_type": "stream",
     "text": [
      "Y predict:  [6.81823584 5.87179081 6.36706106 5.33620958 6.62988226]\n",
      "Y test:  11041    6.746412\n",
      "6003     6.150603\n",
      "3662     6.489205\n",
      "2914     5.777652\n",
      "8945     6.670766\n",
      "Name: RUL, dtype: float64\n"
     ]
    }
   ],
   "source": [
    "y_pred_linear = LinearRegressionModel.predict(x_test)\n",
    "print('Y predict: ',y_pred_linear[:5])\n",
    "print('Y test: ', y_test[:5])"
   ]
  },
  {
   "cell_type": "code",
   "execution_count": 24,
   "id": "837fa9e2",
   "metadata": {},
   "outputs": [
    {
     "name": "stdout",
     "output_type": "stream",
     "text": [
      "RMSE 0.21546986324316847\n"
     ]
    }
   ],
   "source": [
    "from sklearn.metrics import mean_squared_error\n",
    "predictions=LinearRegressionModel.predict(x_test)\n",
    "\n",
    "print('RMSE', mean_squared_error(y_test, predictions))"
   ]
  },
  {
   "cell_type": "code",
   "execution_count": 26,
   "id": "7639c88c",
   "metadata": {},
   "outputs": [
    {
     "data": {
      "image/png": "[encoded data removed]",
      "text/plain": [
       "<Figure size 432x288 with 1 Axes>"
      ]
     },
     "metadata": {
      "needs_background": "light"
     },
     "output_type": "display_data"
    }
   ],
   "source": [
    "actual_values=y_test\n",
    "plt.scatter(predictions, actual_values,alpha=.7, color='b')\n",
    "plt.xlabel('Predicted RUL')\n",
    "plt.ylabel('Actual RUL')\n",
    "plt.title('Linear Regression Model')\n",
    "\n",
    "plt.show()\n"
   ]
  },
  {
   "cell_type": "code",
   "execution_count": null,
   "id": "c4855105",
   "metadata": {},
   "outputs": [],
   "source": []
  }
 ],
 "metadata": {
  "kernelspec": {
   "display_name": "Python 3 (ipykernel)",
   "language": "python",
   "name": "python3"
  },
  "language_info": {
   "codemirror_mode": {
    "name": "ipython",
    "version": 3
   },
   "file_extension": ".py",
   "mimetype": "text/x-python",
   "name": "python",
   "nbconvert_exporter": "python",
   "pygments_lexer": "ipython3",
   "version": "3.10.4"
  }
 },
 "nbformat": 4,
 "nbformat_minor": 5
}
